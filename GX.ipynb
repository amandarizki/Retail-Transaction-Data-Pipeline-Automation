{
 "cells": [
  {
   "cell_type": "markdown",
   "id": "e73bbcae-912a-45f1-aa9a-e02c1fb8597a",
   "metadata": {},
   "source": [
    "# Great Expectation\n",
    "## Data Pipeline Automation with PySpark, Airflow, and MongoDB\n",
    "\n",
    "Program ini dibuat untuk membuat sistem automasi data pipeline (ETL) dengan mengkombinasikan penggunaan PySpark, Airflow, dan MongoDB."
   ]
  },
  {
   "cell_type": "code",
   "execution_count": 1,
   "id": "598083b9-e138-4b68-8ee4-1bbbdbe4f1c5",
   "metadata": {},
   "outputs": [],
   "source": [
    "# Import Libraries\n",
    "from pyspark.sql import SparkSession\n",
    "from pyspark.sql.functions import col, count, when\n",
    "from great_expectations.data_context import FileDataContext\n",
    "from great_expectations.core.batch import RuntimeBatchRequest\n",
    "import great_expectations as gx\n",
    "\n",
    "# Spark Session Initialization\n",
    "spark = SparkSession.builder \\\n",
    "    .appName(\"RetailTransactionAnalysis\") \\\n",
    "    .config(\"spark.driver.memory\", \"4g\") \\\n",
    "    .getOrCreate()"
   ]
  },
  {
   "cell_type": "markdown",
   "id": "2a16bd4d-82e1-4732-ac0d-a10de8d17f61",
   "metadata": {},
   "source": [
    "# Create Dataframe from Retail Dataset"
   ]
  },
  {
   "cell_type": "code",
   "execution_count": null,
   "id": "b86867d3-9fa7-4bd5-aa88-5cbafe89c939",
   "metadata": {},
   "outputs": [
    {
     "name": "stdout",
     "output_type": "stream",
     "text": [
      "+----------+---------+--------+-----------+----------------+-------------+--------------------+---------------+------------------+-----------+\n",
      "|CustomerID|ProductID|Quantity|      Price| TransactionDate|PaymentMethod|       StoreLocation|ProductCategory|DiscountApplied(%)|TotalAmount|\n",
      "+----------+---------+--------+-----------+----------------+-------------+--------------------+---------------+------------------+-----------+\n",
      "|    109318|        C|       7|80.07984415|12/26/2023 12:32|         Cash|176 Andrew Cliffs...|          Books|        18.6770995|455.8627638|\n",
      "|    993229|        C|       4|75.19522942|   8/5/2023 0:00|         Cash|11635 William Wel...|     Home Decor|       14.12136502|258.3065464|\n",
      "|    579675|        A|       8|31.52881648| 3/11/2024 18:51|         Cash|910 Mendez Ville ...|          Books|       15.94370066|212.0156509|\n",
      "|    799826|        D|       5|98.88021828|10/27/2023 22:00|       PayPal|87522 Sharon Corn...|          Books|        6.68633678|461.3437694|\n",
      "|    121413|        A|       7|93.18851246|12/22/2023 11:38|         Cash|0070 Michelle Isl...|    Electronics|       4.030095691|626.0304837|\n",
      "|    463050|        D|       3|54.09315249|  8/15/2023 4:24|         Cash|8492 Jonathan Dri...|    Electronics|       10.88876836|144.6092233|\n",
      "|    888163|        D|       7|13.12193739| 12/26/2023 5:32|       PayPal|USNV Harrell\\nFPO...|       Clothing|       16.29512671|76.88590745|\n",
      "|    843385|        A|       8|56.02516419| 10/11/2023 6:48|   Debit Card|489 Juan Loop Apt...|     Home Decor|       6.344305684|419.7660521|\n",
      "|    839609|        B|       5|23.85798105| 2/27/2024 11:13|  Credit Card|528 Justin Expres...|    Electronics|       18.70399725|96.97792465|\n",
      "|    184135|        D|       4| 63.3427768|  11/5/2023 1:46|   Debit Card|189 Wright Mews\\n...|          Books|       7.640606649|234.0120175|\n",
      "|    266491|        C|       8|98.79272609|  9/25/2023 4:38|   Debit Card|388 Matthew Lane ...|          Books|       14.17495322|678.3112271|\n",
      "|     65632|        D|       8|78.12314235| 12/29/2023 5:07|       PayPal|PSC 1498, Box 414...|    Electronics|       14.70431078|533.0853817|\n",
      "|     26863|        B|       3|  39.003285|12/27/2023 15:34|  Credit Card|623 William Track...|    Electronics|        14.3684358|100.1973691|\n",
      "|    632732|        D|       6|45.47433964|   2/8/2024 8:03|         Cash|5370 Nichols Fork...|          Books|       10.57461814|243.9936112|\n",
      "|    798425|        D|       5|95.01176197|10/27/2023 17:50|         Cash|1573 Petty Parkwa...|       Clothing|       16.24839531|397.8693765|\n",
      "|    780621|        B|       2|19.91484964| 9/23/2023 18:51|         Cash|419 Kerr Passage ...|       Clothing|       14.46467762|34.06846168|\n",
      "|    633299|        D|       8|90.11467295| 2/28/2024 21:34|  Credit Card|1250 Gary Way Apt...|       Clothing|       15.17441385|611.5223964|\n",
      "|    271379|        D|       6|16.70799791|   2/1/2024 2:35|       PayPal|73061 Larry Pass ...|       Clothing|        18.3335909|81.86893153|\n",
      "|    246231|        B|       2|47.31868527| 4/28/2024 21:20|  Credit Card|103 Noah Court Ap...|    Electronics|       6.904600086|88.10303858|\n",
      "|    818911|        B|       5|77.09057502|  4/6/2024 18:59|  Credit Card|44623 Elizabeth T...|          Books|       19.25257426|311.2432741|\n",
      "+----------+---------+--------+-----------+----------------+-------------+--------------------+---------------+------------------+-----------+\n",
      "only showing top 20 rows\n",
      "\n"
     ]
    }
   ],
   "source": [
    "retail_transaction = spark.read.csv('Data_Raw.csv', header=True, inferSchema=True, sep=\",\", quote='\"', escape='\\\\', multiLine=True)\n",
    "retail_transaction.show()"
   ]
  },
  {
   "cell_type": "code",
   "execution_count": 22,
   "id": "2b9fcbfd-47fe-4963-add5-70ec51b60f9f",
   "metadata": {},
   "outputs": [],
   "source": [
    "from pyspark.sql.functions import regexp_replace\n",
    "\n",
    "retail_transaction = retail_transaction.withColumn(\n",
    "    \"StoreLocation\",\n",
    "    regexp_replace(\"StoreLocation\", r\"\\n\", \" \")\n",
    ")"
   ]
  },
  {
   "cell_type": "code",
   "execution_count": 23,
   "id": "56217535-6a90-4e72-a1ac-db45bc4e88b1",
   "metadata": {},
   "outputs": [
    {
     "name": "stdout",
     "output_type": "stream",
     "text": [
      "+----------+---------+--------+-----------+----------------+-------------+--------------------+---------------+------------------+-----------+------------------+------------------+\n",
      "|CustomerID|ProductID|Quantity|      Price| TransactionDate|PaymentMethod|       StoreLocation|ProductCategory|DiscountApplied(%)|TotalAmount|     ExpectedTotal| UndiscountedPrice|\n",
      "+----------+---------+--------+-----------+----------------+-------------+--------------------+---------------+------------------+-----------+------------------+------------------+\n",
      "|    109318|        C|       7|80.07984415|12/26/2023 12:32|         Cash|176 Andrew Cliffs...|          Books|        18.6770995|455.8627638|  455.862763850617|      560.55890905|\n",
      "|    993229|        C|       4|75.19522942|   8/5/2023 0:00|         Cash|11635 William Wel...|     Home Decor|       14.12136502|258.3065464| 258.3065463839015|      300.78091768|\n",
      "|    579675|        A|       8|31.52881648| 3/11/2024 18:51|         Cash|910 Mendez Ville ...|          Books|       15.94370066|212.0156509|212.01565087030443|      252.23053184|\n",
      "|    799826|        D|       5|98.88021828|10/27/2023 22:00|       PayPal|87522 Sharon Corn...|          Books|        6.68633678|461.3437694|461.34376938500037|       494.4010914|\n",
      "|    121413|        A|       7|93.18851246|12/22/2023 11:38|         Cash|0070 Michelle Isl...|    Electronics|       4.030095691|626.0304837| 626.0304836438978|      652.31958722|\n",
      "|    463050|        D|       3|54.09315249|  8/15/2023 4:24|         Cash|8492 Jonathan Dri...|    Electronics|       10.88876836|144.6092233|  144.609223250227|      162.27945747|\n",
      "|    888163|        D|       7|13.12193739| 12/26/2023 5:32|       PayPal|USNV Harrell FPO ...|       Clothing|       16.29512671|76.88590745| 76.88590745844843|       91.85356173|\n",
      "|    843385|        A|       8|56.02516419| 10/11/2023 6:48|   Debit Card|489 Juan Loop Apt...|     Home Decor|       6.344305684|419.7660521|419.76605211058796|      448.20131352|\n",
      "|    839609|        B|       5|23.85798105| 2/27/2024 11:13|  Credit Card|528 Justin Expres...|    Electronics|       18.70399725|96.97792465|  96.9779246525124|      119.28990525|\n",
      "|    184135|        D|       4| 63.3427768|  11/5/2023 1:46|   Debit Card|189 Wright Mews M...|          Books|       7.640606649|234.0120175|234.01201753663187|       253.3711072|\n",
      "|    266491|        C|       8|98.79272609|  9/25/2023 4:38|   Debit Card|388 Matthew Lane ...|          Books|       14.17495322|678.3112271| 678.3112270558381|      790.34180872|\n",
      "|     65632|        D|       8|78.12314235| 12/29/2023 5:07|       PayPal|PSC 1498, Box 414...|    Electronics|       14.70431078|533.0853817| 533.0853816620337|       624.9851388|\n",
      "|     26863|        B|       3|  39.003285|12/27/2023 15:34|  Credit Card|623 William Track...|    Electronics|        14.3684358|100.1973691| 100.1973691046519|117.00985499999999|\n",
      "|    632732|        D|       6|45.47433964|   2/8/2024 8:03|         Cash|5370 Nichols Fork...|          Books|       10.57461814|243.9936112| 243.9936112283001|      272.84603784|\n",
      "|    798425|        D|       5|95.01176197|10/27/2023 17:50|         Cash|1573 Petty Parkwa...|       Clothing|       16.24839531|397.8693765| 397.8693764705908|      475.05880985|\n",
      "|    780621|        B|       2|19.91484964| 9/23/2023 18:51|         Cash|419 Kerr Passage ...|       Clothing|       14.46467762|34.06846168|34.068461682132536|       39.82969928|\n",
      "|    633299|        D|       8|90.11467295| 2/28/2024 21:34|  Credit Card|1250 Gary Way Apt...|       Clothing|       15.17441385|611.5223964|  611.522396295944|       720.9173836|\n",
      "|    271379|        D|       6|16.70799791|   2/1/2024 2:35|       PayPal|73061 Larry Pass ...|       Clothing|        18.3335909|81.86893153| 81.86893155360029|100.24798745999999|\n",
      "|    246231|        B|       2|47.31868527| 4/28/2024 21:20|  Credit Card|103 Noah Court Ap...|    Electronics|       6.904600086|88.10303858| 88.10303857230703|       94.63737054|\n",
      "|    818911|        B|       5|77.09057502|  4/6/2024 18:59|  Credit Card|44623 Elizabeth T...|          Books|       19.25257426|311.2432741| 311.2432740840675|       385.4528751|\n",
      "+----------+---------+--------+-----------+----------------+-------------+--------------------+---------------+------------------+-----------+------------------+------------------+\n",
      "only showing top 20 rows\n",
      "\n"
     ]
    }
   ],
   "source": [
    "retail_transaction.show()"
   ]
  },
  {
   "cell_type": "markdown",
   "id": "4657980d-165d-4007-9dd7-59838494d708",
   "metadata": {},
   "source": [
    "# Simple Data Exploration"
   ]
  },
  {
   "cell_type": "code",
   "execution_count": 24,
   "id": "5c2bb57a-dc58-435a-8aec-924cc88ae07a",
   "metadata": {},
   "outputs": [
    {
     "name": "stdout",
     "output_type": "stream",
     "text": [
      "root\n",
      " |-- CustomerID: integer (nullable = true)\n",
      " |-- ProductID: string (nullable = true)\n",
      " |-- Quantity: integer (nullable = true)\n",
      " |-- Price: double (nullable = true)\n",
      " |-- TransactionDate: string (nullable = true)\n",
      " |-- PaymentMethod: string (nullable = true)\n",
      " |-- StoreLocation: string (nullable = true)\n",
      " |-- ProductCategory: string (nullable = true)\n",
      " |-- DiscountApplied(%): double (nullable = true)\n",
      " |-- TotalAmount: double (nullable = true)\n",
      " |-- ExpectedTotal: double (nullable = true)\n",
      " |-- UndiscountedPrice: double (nullable = true)\n",
      "\n"
     ]
    }
   ],
   "source": [
    "retail_transaction.printSchema()"
   ]
  },
  {
   "cell_type": "markdown",
   "id": "dd4220b2-cdc9-4e96-b763-084f7681ecc6",
   "metadata": {},
   "source": [
    "# Great Expectation"
   ]
  },
  {
   "cell_type": "code",
   "execution_count": 25,
   "id": "dd805ef7-33c0-4e97-a098-fbc3da29bb44",
   "metadata": {},
   "outputs": [],
   "source": [
    "import great_expectations as gx\n",
    "import os\n",
    "\n",
    "# Initialize Data Context in current directory\n",
    "context = gx.get_context(project_root_dir='./')"
   ]
  },
  {
   "cell_type": "code",
   "execution_count": null,
   "id": "eefd5852-a6e3-4765-9935-bde3c8ace39a",
   "metadata": {},
   "outputs": [],
   "source": [
    "# Define unique datasource and asset name\n",
    "datasource_name = \"local_csv_retail\"\n",
    "asset_name = \"retail_transaction\"\n",
    "\n",
    "# Path to local file (adjust if in another folder)\n",
    "path_to_data = \"Data_Raw.csv\"\n",
    "\n",
    "# Add pandas datasource\n",
    "if datasource_name in context.list_datasources():\n",
    "    datasource = context.get_datasource(datasource_name)\n",
    "else:\n",
    "    datasource = context.sources.add_pandas(datasource_name)\n",
    "\n",
    "# Add CSV asset from local file\n",
    "asset = datasource.add_csv_asset(name=asset_name, filepath_or_buffer=path_to_data)\n",
    "\n",
    "# Build batch request\n",
    "batch_request = asset.build_batch_request()"
   ]
  },
  {
   "cell_type": "code",
   "execution_count": 41,
   "id": "4eef828e-4bf5-48ee-b119-651a7468ddb7",
   "metadata": {},
   "outputs": [
    {
     "data": {
      "application/vnd.jupyter.widget-view+json": {
       "model_id": "f71a29a6df334a228b52e1e77ee56ec4",
       "version_major": 2,
       "version_minor": 0
      },
      "text/plain": [
       "Calculating Metrics:   0%|          | 0/1 [00:00<?, ?it/s]"
      ]
     },
     "metadata": {},
     "output_type": "display_data"
    },
    {
     "data": {
      "text/html": [
       "<div>\n",
       "<style scoped>\n",
       "    .dataframe tbody tr th:only-of-type {\n",
       "        vertical-align: middle;\n",
       "    }\n",
       "\n",
       "    .dataframe tbody tr th {\n",
       "        vertical-align: top;\n",
       "    }\n",
       "\n",
       "    .dataframe thead th {\n",
       "        text-align: right;\n",
       "    }\n",
       "</style>\n",
       "<table border=\"1\" class=\"dataframe\">\n",
       "  <thead>\n",
       "    <tr style=\"text-align: right;\">\n",
       "      <th></th>\n",
       "      <th>CustomerID</th>\n",
       "      <th>ProductID</th>\n",
       "      <th>Quantity</th>\n",
       "      <th>Price</th>\n",
       "      <th>TransactionDate</th>\n",
       "      <th>PaymentMethod</th>\n",
       "      <th>StoreLocation</th>\n",
       "      <th>ProductCategory</th>\n",
       "      <th>DiscountApplied(%)</th>\n",
       "      <th>TotalAmount</th>\n",
       "    </tr>\n",
       "  </thead>\n",
       "  <tbody>\n",
       "    <tr>\n",
       "      <th>0</th>\n",
       "      <td>109318</td>\n",
       "      <td>C</td>\n",
       "      <td>7</td>\n",
       "      <td>80.079844</td>\n",
       "      <td>12/26/2023 12:32</td>\n",
       "      <td>Cash</td>\n",
       "      <td>176 Andrew Cliffs\\nBaileyfort, HI 93354</td>\n",
       "      <td>Books</td>\n",
       "      <td>18.677100</td>\n",
       "      <td>455.862764</td>\n",
       "    </tr>\n",
       "    <tr>\n",
       "      <th>1</th>\n",
       "      <td>993229</td>\n",
       "      <td>C</td>\n",
       "      <td>4</td>\n",
       "      <td>75.195229</td>\n",
       "      <td>8/5/2023 0:00</td>\n",
       "      <td>Cash</td>\n",
       "      <td>11635 William Well Suite 809\\nEast Kara, MT 19483</td>\n",
       "      <td>Home Decor</td>\n",
       "      <td>14.121365</td>\n",
       "      <td>258.306546</td>\n",
       "    </tr>\n",
       "    <tr>\n",
       "      <th>2</th>\n",
       "      <td>579675</td>\n",
       "      <td>A</td>\n",
       "      <td>8</td>\n",
       "      <td>31.528816</td>\n",
       "      <td>3/11/2024 18:51</td>\n",
       "      <td>Cash</td>\n",
       "      <td>910 Mendez Ville Suite 909\\nPort Lauraland, MO...</td>\n",
       "      <td>Books</td>\n",
       "      <td>15.943701</td>\n",
       "      <td>212.015651</td>\n",
       "    </tr>\n",
       "    <tr>\n",
       "      <th>3</th>\n",
       "      <td>799826</td>\n",
       "      <td>D</td>\n",
       "      <td>5</td>\n",
       "      <td>98.880218</td>\n",
       "      <td>10/27/2023 22:00</td>\n",
       "      <td>PayPal</td>\n",
       "      <td>87522 Sharon Corners Suite 500\\nLake Tammy, MO...</td>\n",
       "      <td>Books</td>\n",
       "      <td>6.686337</td>\n",
       "      <td>461.343769</td>\n",
       "    </tr>\n",
       "    <tr>\n",
       "      <th>4</th>\n",
       "      <td>121413</td>\n",
       "      <td>A</td>\n",
       "      <td>7</td>\n",
       "      <td>93.188512</td>\n",
       "      <td>12/22/2023 11:38</td>\n",
       "      <td>Cash</td>\n",
       "      <td>0070 Michelle Island Suite 143\\nHoland, VA 80142</td>\n",
       "      <td>Electronics</td>\n",
       "      <td>4.030096</td>\n",
       "      <td>626.030484</td>\n",
       "    </tr>\n",
       "  </tbody>\n",
       "</table>\n",
       "</div>"
      ],
      "text/plain": [
       "   CustomerID ProductID  Quantity      Price   TransactionDate PaymentMethod  \\\n",
       "0      109318         C         7  80.079844  12/26/2023 12:32          Cash   \n",
       "1      993229         C         4  75.195229     8/5/2023 0:00          Cash   \n",
       "2      579675         A         8  31.528816   3/11/2024 18:51          Cash   \n",
       "3      799826         D         5  98.880218  10/27/2023 22:00        PayPal   \n",
       "4      121413         A         7  93.188512  12/22/2023 11:38          Cash   \n",
       "\n",
       "                                       StoreLocation ProductCategory  \\\n",
       "0            176 Andrew Cliffs\\nBaileyfort, HI 93354           Books   \n",
       "1  11635 William Well Suite 809\\nEast Kara, MT 19483      Home Decor   \n",
       "2  910 Mendez Ville Suite 909\\nPort Lauraland, MO...           Books   \n",
       "3  87522 Sharon Corners Suite 500\\nLake Tammy, MO...           Books   \n",
       "4   0070 Michelle Island Suite 143\\nHoland, VA 80142     Electronics   \n",
       "\n",
       "   DiscountApplied(%)  TotalAmount  \n",
       "0           18.677100   455.862764  \n",
       "1           14.121365   258.306546  \n",
       "2           15.943701   212.015651  \n",
       "3            6.686337   461.343769  \n",
       "4            4.030096   626.030484  "
      ]
     },
     "execution_count": 41,
     "metadata": {},
     "output_type": "execute_result"
    }
   ],
   "source": [
    "# Define expectation suite name\n",
    "expectation_suite_name = \"expectation_retail_transaction\"\n",
    "\n",
    "# Create the suite\n",
    "context.add_or_update_expectation_suite(expectation_suite_name=expectation_suite_name)\n",
    "\n",
    "# Create validator\n",
    "validator = context.get_validator(\n",
    "    batch_request=batch_request,\n",
    "    expectation_suite_name=expectation_suite_name\n",
    ")\n",
    "\n",
    "# Preview data\n",
    "validator.head()"
   ]
  },
  {
   "cell_type": "markdown",
   "id": "4ab430e7-87d6-41b8-bf54-1b3e7fa2ef02",
   "metadata": {},
   "source": [
    "## Expectation"
   ]
  },
  {
   "cell_type": "code",
   "execution_count": 11,
   "id": "04a9e285-a9a2-4870-a9ba-26c8e89dfd71",
   "metadata": {},
   "outputs": [
    {
     "data": {
      "application/vnd.jupyter.widget-view+json": {
       "model_id": "ee67f0a9f4b84e17b2dd403e0c43b9c3",
       "version_major": 2,
       "version_minor": 0
      },
      "text/plain": [
       "Calculating Metrics:   0%|          | 0/7 [00:00<?, ?it/s]"
      ]
     },
     "metadata": {},
     "output_type": "display_data"
    },
    {
     "data": {
      "text/plain": [
       "{\n",
       "  \"success\": true,\n",
       "  \"result\": {\n",
       "    \"element_count\": 100000,\n",
       "    \"unexpected_count\": 0,\n",
       "    \"unexpected_percent\": 0.0,\n",
       "    \"partial_unexpected_list\": [],\n",
       "    \"missing_count\": 0,\n",
       "    \"missing_percent\": 0.0,\n",
       "    \"unexpected_percent_total\": 0.0,\n",
       "    \"unexpected_percent_nonmissing\": 0.0\n",
       "  },\n",
       "  \"meta\": {},\n",
       "  \"exception_info\": {\n",
       "    \"raised_exception\": false,\n",
       "    \"exception_traceback\": null,\n",
       "    \"exception_message\": null\n",
       "  }\n",
       "}"
      ]
     },
     "execution_count": 11,
     "metadata": {},
     "output_type": "execute_result"
    }
   ],
   "source": [
    "# 1. Expect composite key uniqueness (CustomerID + TransactionDate + ProductID)\n",
    "validator.expect_compound_columns_to_be_unique(\n",
    "    column_list=[\"CustomerID\", \"TransactionDate\", \"ProductID\"],\n",
    "    ignore_row_if=\"any_value_is_missing\",\n",
    "    meta={\n",
    "        \"business_rule\": \"Each product purchase per transaction should be unique\"\n",
    "    }\n",
    ")"
   ]
  },
  {
   "cell_type": "code",
   "execution_count": 12,
   "id": "d739a3c6-7895-403a-b75b-20b48b6fccfd",
   "metadata": {},
   "outputs": [
    {
     "data": {
      "application/vnd.jupyter.widget-view+json": {
       "model_id": "9e7b5fc4ca1f4ab0a811270add095007",
       "version_major": 2,
       "version_minor": 0
      },
      "text/plain": [
       "Calculating Metrics:   0%|          | 0/8 [00:00<?, ?it/s]"
      ]
     },
     "metadata": {},
     "output_type": "display_data"
    },
    {
     "data": {
      "text/plain": [
       "{\n",
       "  \"success\": true,\n",
       "  \"result\": {\n",
       "    \"element_count\": 100000,\n",
       "    \"unexpected_count\": 0,\n",
       "    \"unexpected_percent\": 0.0,\n",
       "    \"partial_unexpected_list\": [],\n",
       "    \"missing_count\": 0,\n",
       "    \"missing_percent\": 0.0,\n",
       "    \"unexpected_percent_total\": 0.0,\n",
       "    \"unexpected_percent_nonmissing\": 0.0\n",
       "  },\n",
       "  \"meta\": {},\n",
       "  \"exception_info\": {\n",
       "    \"raised_exception\": false,\n",
       "    \"exception_traceback\": null,\n",
       "    \"exception_message\": null\n",
       "  }\n",
       "}"
      ]
     },
     "execution_count": 12,
     "metadata": {},
     "output_type": "execute_result"
    }
   ],
   "source": [
    "# 2. Expect quantity to be minimum 1\n",
    "validator.expect_column_values_to_be_between(\"Quantity\", min_value = 1)"
   ]
  },
  {
   "cell_type": "code",
   "execution_count": 13,
   "id": "7342fbea-3a1f-41e2-b82e-7dbc9f0a3acc",
   "metadata": {},
   "outputs": [
    {
     "data": {
      "application/vnd.jupyter.widget-view+json": {
       "model_id": "dc598643f8e44d6bbbabb2f3584aade1",
       "version_major": 2,
       "version_minor": 0
      },
      "text/plain": [
       "Calculating Metrics:   0%|          | 0/8 [00:00<?, ?it/s]"
      ]
     },
     "metadata": {},
     "output_type": "display_data"
    },
    {
     "data": {
      "text/plain": [
       "{\n",
       "  \"success\": true,\n",
       "  \"result\": {\n",
       "    \"element_count\": 100000,\n",
       "    \"unexpected_count\": 0,\n",
       "    \"unexpected_percent\": 0.0,\n",
       "    \"partial_unexpected_list\": [],\n",
       "    \"missing_count\": 0,\n",
       "    \"missing_percent\": 0.0,\n",
       "    \"unexpected_percent_total\": 0.0,\n",
       "    \"unexpected_percent_nonmissing\": 0.0\n",
       "  },\n",
       "  \"meta\": {},\n",
       "  \"exception_info\": {\n",
       "    \"raised_exception\": false,\n",
       "    \"exception_traceback\": null,\n",
       "    \"exception_message\": null\n",
       "  }\n",
       "}"
      ]
     },
     "execution_count": 13,
     "metadata": {},
     "output_type": "execute_result"
    }
   ],
   "source": [
    "# 3. Expect PaymentMethod column to contain only a known set of values\n",
    "valid_payment = [\"Cash\", \"PayPal\", \"Credit Card\", \"Debit Card\"]\n",
    "validator.expect_column_values_to_be_in_set(\"PaymentMethod\", valid_payment)"
   ]
  },
  {
   "cell_type": "code",
   "execution_count": 14,
   "id": "1393e63e-b19b-413d-93ed-7e4d0569987f",
   "metadata": {},
   "outputs": [
    {
     "data": {
      "application/vnd.jupyter.widget-view+json": {
       "model_id": "8a88fb63caee4d2784aa55737de16cc6",
       "version_major": 2,
       "version_minor": 0
      },
      "text/plain": [
       "Calculating Metrics:   0%|          | 0/1 [00:00<?, ?it/s]"
      ]
     },
     "metadata": {},
     "output_type": "display_data"
    },
    {
     "data": {
      "text/plain": [
       "{\n",
       "  \"success\": true,\n",
       "  \"result\": {\n",
       "    \"observed_value\": \"float64\"\n",
       "  },\n",
       "  \"meta\": {},\n",
       "  \"exception_info\": {\n",
       "    \"raised_exception\": false,\n",
       "    \"exception_traceback\": null,\n",
       "    \"exception_message\": null\n",
       "  }\n",
       "}"
      ]
     },
     "execution_count": 14,
     "metadata": {},
     "output_type": "execute_result"
    }
   ],
   "source": [
    "# 4. Validate numeric DiscountApplied(%)\n",
    "validator.expect_column_values_to_be_of_type(\n",
    "    column=\"DiscountApplied(%)\",\n",
    "    type_=\"float64\",\n",
    "    meta={\n",
    "        \"data_quality\": \"Must be numeric for calculations\"\n",
    "    }\n",
    ")"
   ]
  },
  {
   "cell_type": "code",
   "execution_count": 15,
   "id": "5461f6ab-b00d-42f4-b951-21dc05cf04be",
   "metadata": {},
   "outputs": [
    {
     "data": {
      "application/vnd.jupyter.widget-view+json": {
       "model_id": "f98107db8b0c4fa4b01500b054af1ce3",
       "version_major": 2,
       "version_minor": 0
      },
      "text/plain": [
       "Calculating Metrics:   0%|          | 0/8 [00:00<?, ?it/s]"
      ]
     },
     "metadata": {},
     "output_type": "display_data"
    },
    {
     "data": {
      "text/plain": [
       "{\n",
       "  \"success\": true,\n",
       "  \"result\": {\n",
       "    \"element_count\": 100000,\n",
       "    \"unexpected_count\": 0,\n",
       "    \"unexpected_percent\": 0.0,\n",
       "    \"partial_unexpected_list\": [],\n",
       "    \"missing_count\": 0,\n",
       "    \"missing_percent\": 0.0,\n",
       "    \"unexpected_percent_total\": 0.0,\n",
       "    \"unexpected_percent_nonmissing\": 0.0\n",
       "  },\n",
       "  \"meta\": {},\n",
       "  \"exception_info\": {\n",
       "    \"raised_exception\": false,\n",
       "    \"exception_traceback\": null,\n",
       "    \"exception_message\": null\n",
       "  }\n",
       "}"
      ]
     },
     "execution_count": 15,
     "metadata": {},
     "output_type": "execute_result"
    }
   ],
   "source": [
    "# 5. Expect TransactionDate to be properly formatted datetime\n",
    "validator.expect_column_values_to_match_strftime_format(\n",
    "    column=\"TransactionDate\",\n",
    "    strftime_format=\"%m/%d/%Y %H:%M\",  \n",
    ")"
   ]
  },
  {
   "cell_type": "code",
   "execution_count": 16,
   "id": "a58ca25e-05ab-499d-a7b6-c39b86005383",
   "metadata": {},
   "outputs": [
    {
     "data": {
      "application/vnd.jupyter.widget-view+json": {
       "model_id": "6dcef490dfdb489ebef9fcd90211a70e",
       "version_major": 2,
       "version_minor": 0
      },
      "text/plain": [
       "Calculating Metrics:   0%|          | 0/9 [00:00<?, ?it/s]"
      ]
     },
     "metadata": {},
     "output_type": "display_data"
    },
    {
     "data": {
      "text/plain": [
       "{\n",
       "  \"success\": true,\n",
       "  \"result\": {\n",
       "    \"element_count\": 100000,\n",
       "    \"unexpected_count\": 0,\n",
       "    \"unexpected_percent\": 0.0,\n",
       "    \"partial_unexpected_list\": [],\n",
       "    \"missing_count\": 0,\n",
       "    \"missing_percent\": 0.0,\n",
       "    \"unexpected_percent_total\": 0.0,\n",
       "    \"unexpected_percent_nonmissing\": 0.0\n",
       "  },\n",
       "  \"meta\": {},\n",
       "  \"exception_info\": {\n",
       "    \"raised_exception\": false,\n",
       "    \"exception_traceback\": null,\n",
       "    \"exception_message\": null\n",
       "  }\n",
       "}"
      ]
     },
     "execution_count": 16,
     "metadata": {},
     "output_type": "execute_result"
    }
   ],
   "source": [
    "# 6. ProductCategory name length should be reasonable\n",
    "validator.expect_column_value_lengths_to_be_between(\n",
    "    column=\"ProductCategory\",\n",
    "    min_value=3,\n",
    "    max_value=30,\n",
    "    meta={\n",
    "        \"description\": \"Category name should have reasonable character length\"\n",
    "    }\n",
    ")"
   ]
  },
  {
   "cell_type": "code",
   "execution_count": 17,
   "id": "e8187167-9566-4554-93d6-6e0bda1c7f9c",
   "metadata": {},
   "outputs": [
    {
     "data": {
      "application/vnd.jupyter.widget-view+json": {
       "model_id": "87e6d7be5e414c93bfc9fd9329bf7798",
       "version_major": 2,
       "version_minor": 0
      },
      "text/plain": [
       "Calculating Metrics:   0%|          | 0/9 [00:00<?, ?it/s]"
      ]
     },
     "metadata": {},
     "output_type": "display_data"
    },
    {
     "data": {
      "text/plain": [
       "{\n",
       "  \"success\": true,\n",
       "  \"result\": {\n",
       "    \"element_count\": 100000,\n",
       "    \"unexpected_count\": 0,\n",
       "    \"unexpected_percent\": 0.0,\n",
       "    \"partial_unexpected_list\": [],\n",
       "    \"missing_count\": 0,\n",
       "    \"missing_percent\": 0.0,\n",
       "    \"unexpected_percent_total\": 0.0,\n",
       "    \"unexpected_percent_nonmissing\": 0.0\n",
       "  },\n",
       "  \"meta\": {},\n",
       "  \"exception_info\": {\n",
       "    \"raised_exception\": false,\n",
       "    \"exception_traceback\": null,\n",
       "    \"exception_message\": null\n",
       "  }\n",
       "}"
      ]
     },
     "execution_count": 17,
     "metadata": {},
     "output_type": "execute_result"
    }
   ],
   "source": [
    "# 7. Check if Discount (%) is Logical\n",
    "validator.expect_column_value_lengths_to_be_between(\n",
    "    column=\"DiscountApplied(%)\",\n",
    "    min_value=0,\n",
    "    max_value=100,\n",
    "    meta={\n",
    "        \"description\": \"Discount (%) should be between 0 and 100\"\n",
    "    }\n",
    ")"
   ]
  },
  {
   "cell_type": "code",
   "execution_count": 44,
   "id": "fae77ad0-96fd-4d40-81af-32d8ec4b2f1a",
   "metadata": {},
   "outputs": [
    {
     "data": {
      "application/vnd.jupyter.widget-view+json": {
       "model_id": "1ed36d02ae374736b7f152880fddd133",
       "version_major": 2,
       "version_minor": 0
      },
      "text/plain": [
       "Calculating Metrics:   0%|          | 0/8 [00:00<?, ?it/s]"
      ]
     },
     "metadata": {},
     "output_type": "display_data"
    },
    {
     "data": {
      "text/plain": [
       "{\n",
       "  \"success\": false,\n",
       "  \"result\": {\n",
       "    \"element_count\": 100000,\n",
       "    \"unexpected_count\": 10806,\n",
       "    \"unexpected_percent\": 10.806000000000001,\n",
       "    \"partial_unexpected_list\": [\n",
       "      \"USNV Harrell\\nFPO AA 62814\",\n",
       "      \"PSC 1498, Box 4142\\nAPO AP 10928\",\n",
       "      \"Unit 7268 Box 3644\\nDPO AP 43969\",\n",
       "      \"USNS David\\nFPO AE 12953\",\n",
       "      \"Unit 4486 Box 3431\\nDPO AE 41617\",\n",
       "      \"PSC 8454, Box 4823\\nAPO AE 17356\",\n",
       "      \"Unit 5493 Box 4915\\nDPO AE 46180\",\n",
       "      \"Unit 4248 Box 3478\\nDPO AP 26267\",\n",
       "      \"PSC 4308, Box 2125\\nAPO AE 53765\",\n",
       "      \"PSC 3555, Box 8474\\nAPO AA 67962\",\n",
       "      \"Unit 1535 Box 5709\\nDPO AP 57706\",\n",
       "      \"Unit 9800 Box 8766\\nDPO AE 93292\",\n",
       "      \"PSC 9458, Box 9421\\nAPO AA 84039\",\n",
       "      \"USNS Jackson\\nFPO AA 77311\",\n",
       "      \"Unit 4152 Box 6862\\nDPO AA 32838\",\n",
       "      \"PSC 5089, Box 2406\\nAPO AE 06601\",\n",
       "      \"Unit 9796 Box 6648\\nDPO AA 42931\",\n",
       "      \"PSC 5669, Box 2093\\nAPO AE 56470\",\n",
       "      \"Unit 3436 Box 2527\\nDPO AP 61328\",\n",
       "      \"PSC 6618, Box 0807\\nAPO AA 20014\"\n",
       "    ],\n",
       "    \"missing_count\": 0,\n",
       "    \"missing_percent\": 0.0,\n",
       "    \"unexpected_percent_total\": 10.806000000000001,\n",
       "    \"unexpected_percent_nonmissing\": 10.806000000000001\n",
       "  },\n",
       "  \"meta\": {},\n",
       "  \"exception_info\": {\n",
       "    \"raised_exception\": false,\n",
       "    \"exception_traceback\": null,\n",
       "    \"exception_message\": null\n",
       "  }\n",
       "}"
      ]
     },
     "execution_count": 44,
     "metadata": {},
     "output_type": "execute_result"
    }
   ],
   "source": [
    "# 8. Validate store location format\n",
    "validator.expect_column_values_to_match_regex(\n",
    "    column=\"StoreLocation\",\n",
    "    regex=r\"^.+\\n.+,\\s[A-Z]{2}\\s\\d{5}$\",\n",
    "    mostly=0.95,\n",
    "    meta={\n",
    "        \"format\": \"Address line 1 City, ST ZIPCODE\"\n",
    "    }\n",
    ")"
   ]
  },
  {
   "cell_type": "code",
   "execution_count": 45,
   "id": "135852e4-7c6a-4f38-b6d9-df1c8e3c19ac",
   "metadata": {},
   "outputs": [],
   "source": [
    "# Save into Expectation Suite\n",
    "\n",
    "validator.save_expectation_suite(discard_failed_expectations=False)"
   ]
  },
  {
   "cell_type": "markdown",
   "id": "5c49b52f-4e2d-4aec-90ee-3e510b7c1ea2",
   "metadata": {},
   "source": [
    "## Checkpoint"
   ]
  },
  {
   "cell_type": "code",
   "execution_count": 46,
   "id": "3ae08dde-bc52-47c2-8f28-c16984d4cf5c",
   "metadata": {},
   "outputs": [],
   "source": [
    "# Create a checkpoint\n",
    "\n",
    "checkpoint_1 = context.add_or_update_checkpoint(\n",
    "    name = 'checkpoint_1',\n",
    "    validator = validator,\n",
    ")"
   ]
  },
  {
   "cell_type": "code",
   "execution_count": 47,
   "id": "63cc1bd6-d1f7-4414-9e5e-fe85be0b337f",
   "metadata": {},
   "outputs": [
    {
     "data": {
      "application/vnd.jupyter.widget-view+json": {
       "model_id": "ce09ab7086a04d049de71be4b913a67f",
       "version_major": 2,
       "version_minor": 0
      },
      "text/plain": [
       "Calculating Metrics:   0%|          | 0/10 [00:00<?, ?it/s]"
      ]
     },
     "metadata": {},
     "output_type": "display_data"
    }
   ],
   "source": [
    "# Run a checkpoint\n",
    "\n",
    "checkpoint_result = checkpoint_1.run()"
   ]
  }
 ],
 "metadata": {
  "kernelspec": {
   "display_name": "Python 3 (ipykernel)",
   "language": "python",
   "name": "python3"
  },
  "language_info": {
   "codemirror_mode": {
    "name": "ipython",
    "version": 3
   },
   "file_extension": ".py",
   "mimetype": "text/x-python",
   "name": "python",
   "nbconvert_exporter": "python",
   "pygments_lexer": "ipython3",
   "version": "3.12.10"
  }
 },
 "nbformat": 4,
 "nbformat_minor": 5
}
